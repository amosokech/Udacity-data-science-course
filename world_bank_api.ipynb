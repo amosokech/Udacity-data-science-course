{
 "cells": [
  {
   "cell_type": "markdown",
   "metadata": {},
   "source": [
    "# Using APIs with Python\n",
    "\n",
    "This Ipython notebook shows you how to use the World Bank API with the Python requests library. At the end there is a short exercise for you.\n",
    "\n",
    "To access APIs in Python, you can use the [requests library](http://docs.python-requests.org/en/master/user/install/). \n",
    "\n",
    "To install, you can go in a terminal and type:\n",
    "```\n",
    "pip install pipenv\n",
    "pipenv install requests\n",
    "```\n",
    "\n",
    "When you use the requests library, it's like putting an API url in a browser except now Python does this behind the scenes programatically and then stores the results in a variable. The classroom workspaces already have the requests library installed. Here is a demonstration of how the request library works."
   ]
  },
  {
   "cell_type": "code",
   "execution_count": null,
   "metadata": {},
   "outputs": [],
   "source": [
    "import requests\n",
    "r = requests.get('http://api.worldbank.org/v2/countries/br/indicators/NY.GDP.MKTP.CD')\n",
    "r.text"
   ]
  },
  {
   "cell_type": "markdown",
   "metadata": {},
   "source": [
    "# Explanation of Results \n",
    "\n",
    "```\n",
    "import requests\n",
    "```\n",
    "\n",
    "This line imports the requests library.\n",
    "\n",
    "```\n",
    "r = requests.get('http://api.worldbank.org/v2/countries/br/indicators/NY.GDP.MKTP.CD')\n",
    "```\n",
    "\n",
    "The line `requests.get` sends out a \"get\" request to the url specified in parenthesis. The html standard specifies different types of [request methods](https://developer.mozilla.org/en-US/docs/Web/HTTP/Methods) with the most common one being \"get\". A \"get\" request is generally reserved for obtaining data from a server. For the World Bank API, you'll only need to make \"get\" requests. An API's documentation will generally tell you what type of requests to make.\n",
    "\n",
    "The last line of code outputs the results.\n",
    "```\n",
    "r.text\n",
    "``` \n",
    "\n",
    "In this case, the output is xml data. [XML](https://www.w3schools.com/xml/xml_whatis.asp) is a language for storing and transmitting data. XML was standardized in the late 1990s. A few years later, the JSON format came along and serves a similar purpose. JSON tends to be much easier to work with and luckily, the World Bank API can return data in json format by specifying the format parameters. \n",
    "\n",
    "Next, you'll see how to send parameters with your get request."
   ]
  },
  {
   "cell_type": "markdown",
   "metadata": {},
   "source": [
    "# Sending Parameters with the Get Request\n",
    "\n",
    "This url, `http://api.worldbank.org/v2/countries/br/indicators/NY.GDP.MKTP.CD`, obtains GDP data for Brazil. You specify the country name with the [2-character ISO code](http://www.nationsonline.org/oneworld/country_code_list.htm) and then specify the economic indicator that you want, which in this case is `NY.GDP.MKTP.CD`. \n",
    "\n",
    "To see all of the possible indicators, visit the [world bank indicator dashboard](https://data.worldbank.org/indicator?tab=all) or use the API address `http://api.worldbank.org/v2/indicators`.\n",
    "\n",
    "The url syntax is specific to the World Bank API. Other APIs might be different.\n",
    "\n",
    "When making a get request, you can add parameters to the end of the url with the following syntax:\n",
    "`http://api.worldbank.org/v2/countries/br/indicators/NY.GDP.MKTP.CD?format=json&per_page=500&date=1990:2015`\n",
    "\n",
    "where a question mark was added at the end of the url following by each parameter name and parameter values. The parameters are separated by the ampersand & sign. Adding parameters to a get request with the question mark ? and ampersand is the standard way for adding parameters to a get request.\n",
    "\n",
    "With the requests library, you can send this get request in one of two ways. The first way specifies the entire url in a single string.\n",
    "\n",
    "```\n",
    "r = requests.get('http://api.worldbank.org/v2/countries/br/indicators/NY.GDP.MKTP.CD?format=json&per_page=500&date=1990:2015')\n",
    "\n",
    "```\n",
    "\n",
    "The second way separate the base url and the parameters.\n",
    "\n",
    "```\n",
    "payload = {'format': 'json', 'per_page': '500', 'date':'1990:2015'}\n",
    "r = requests.get('http://api.worldbank.org/v2/countries/br/indicators/NY.GDP.MKTP.CD', params=payload)\n",
    "```\n",
    "\n",
    "Why use the second version? It's somewhat easier to write programs with the second version because you can easily change the values in the payload dictionary whereas the first version involves manipulating the url string.\n",
    "\n",
    "Run the code cell below to show that both versions give the same results."
   ]
  },
  {
   "cell_type": "code",
   "execution_count": null,
   "metadata": {},
   "outputs": [],
   "source": [
    "r_url = requests.get('http://api.worldbank.org/v2/countries/br/indicators/NY.GDP.MKTP.CD?format=json&per_page=500&date=1990:2015')\n",
    "\n",
    "payload = {'format': 'json', 'per_page': '500', 'date':'1990:2015'}\n",
    "r_payload = requests.get('http://api.worldbank.org/v2/countries/br/indicators/NY.GDP.MKTP.CD', params=payload)\n",
    "\n",
    "# Test if both results are the same string\n",
    "r_url.text == r_payload.text"
   ]
  },
  {
   "cell_type": "markdown",
   "metadata": {},
   "source": [
    "# Navigating the JSON response\n",
    "\n",
    "Once you have the data, what can you do with it? The requests library comes with a json decoder. In order to obtain the json response, all you have to do is use the .json() method like so:\n",
    "\n",
    "```\n",
    "payload = {'format': 'json', 'per_page': '500', 'date':'1990:2015'}\n",
    "r = requests.get('http://api.worldbank.org/v2/countries/br/indicators/NY.GDP.MKTP.CD', params=payload)\n",
    "r.json()\n",
    "```\n",
    "\n",
    "Run the cell below to see the results:"
   ]
  },
  {
   "cell_type": "code",
   "execution_count": null,
   "metadata": {},
   "outputs": [],
   "source": [
    "payload = {'format': 'json', 'per_page': '500', 'date':'1990:2015'}\n",
    "r = requests.get('http://api.worldbank.org/v2/countries/br/indicators/NY.GDP.MKTP.CD', params=payload)\n",
    "r.json()"
   ]
  },
  {
   "cell_type": "markdown",
   "metadata": {},
   "source": [
    "The result is a list of json values, which you can iterate through to access all of the data. Every API will return data in a slightly different way, so you need to look at the data and figure out how to clean the data for your purposes. For example, in the json response, the first entry contains meta data about the results. The second entry is a list containing all of the data points. For the purposes of analyzing the data, you only need the second entry, which you can access with `r.json()[1]`. Run the code cells below to see an example of how to iterate through the data, clean the data, and then plot the results."
   ]
  },
  {
   "cell_type": "code",
   "execution_count": null,
   "metadata": {},
   "outputs": [],
   "source": [
    "# get the World Bank GDP data for Brazil, China and the United States\n",
    "payload = {'format': 'json', 'per_page': '500', 'date':'1990:2016'}\n",
    "r = requests.get('http://api.worldbank.org/v2/countries/br;cn;us/indicators/NY.GDP.MKTP.CD', params=payload)\n",
    "\n",
    "# put the results in a dictionary where each country contains a list of all the x values and all the y values\n",
    "# this will make it easier to plot the results\n",
    "from collections import defaultdict\n",
    "data = defaultdict(list)\n",
    "\n",
    "for entry in r.json()[1]:\n",
    "    # check if country is already in dictionary. If so, append the new x and y values to the lists\n",
    "    if data[entry['country']['value']]:\n",
    "        data[entry['country']['value']][0].append(int(entry['date']))\n",
    "        data[entry['country']['value']][1].append(float(entry['value']))       \n",
    "    else: # if country not in dictionary, then initialize the lists that will hold the x and y values\n",
    "        data[entry['country']['value']] = [[],[]] \n",
    "\n",
    "# show the results contained in the data dictionary\n",
    "for country in data:\n",
    "    print(country)\n",
    "    print(data[country][0])\n",
    "    print(data[country][1])\n",
    "    print('\\n')"
   ]
  },
  {
   "cell_type": "code",
   "execution_count": null,
   "metadata": {},
   "outputs": [],
   "source": [
    "# visualize the results with matplotlib\n",
    "import matplotlib.pyplot as plt\n",
    "%matplotlib inline \n",
    "\n",
    "# create a plot for each country\n",
    "for country in data:\n",
    "    plt.plot(data[country][0], data[country][1], label=country)\n",
    "\n",
    "# label the plot\n",
    "plt.title('GDP for Brazil, China, and USA 1990 to 2015')\n",
    "plt.legend()\n",
    "plt.xlabel('year')\n",
    "plt.ylabel('GDP')\n",
    "plt.show()"
   ]
  },
  {
   "cell_type": "markdown",
   "metadata": {},
   "source": [
    "# Practice\n",
    "\n",
    "Here is a practice exercise for you to try out. Go to the World Bank data website found [here](https://data.worldbank.org/indicator) and find the `Population growth (annual %)` indicator. If you click on the indicator link, you'll see the indicator symbol in the web URL (hint it starts with \"SP\").\n",
    "\n",
    "Use the requests library to find the indicator values for China and India in the years 2013, 2014 and 2015. Put the results in a dictionary in this format:\n",
    "{country_name: [[2013, 2014, 2015], [value_2013, value_2014, value_2015]]}\n"
   ]
  },
  {
   "cell_type": "code",
   "execution_count": null,
   "metadata": {},
   "outputs": [],
   "source": [
    "# TODO: assign parameters to a dictionary called payload.\n",
    "# Use the format parameter so that the request \n",
    "# returns data in the json format. \n",
    "# Use the date parameter to filter for the necessary years\n",
    "\n",
    "payload = {}\n",
    "\n",
    "# TODO: write the request and put the results in the r variable\n",
    "r = ''\n",
    "\n",
    "# TODO: store the results in a dictionary like in the previous example.\n",
    "# where each the dictionary keys are a country and the dictionary\n",
    "# values are lists of lists with the dates in one list and the values\n",
    "# in another list."
   ]
  },
  {
   "cell_type": "markdown",
   "metadata": {},
   "source": [
    "If you did it correctly, you should get a dictionary with the following values:"
   ]
  },
  {
   "cell_type": "markdown",
   "metadata": {},
   "source": [
    "```\n",
    "{'China': [[2015, 2014, 2013],\n",
    "[0.508136747291937, 0.506311591779847, 0.49370963351136]],\n",
    "'India': [[2015, 2014, 2013],\n",
    "[1.16752707459156, 1.18932821143382, 1.21941894433091]]})\n",
    "```"
   ]
  },
  {
   "cell_type": "markdown",
   "metadata": {},
   "source": [
    "For a solution, go to the file menu in the workspace, click open, and choose the 'api_solution.py' file."
   ]
  },
  {
   "cell_type": "markdown",
   "metadata": {},
   "source": [
    "# Authentication\n",
    "\n",
    "The World Bank API does not require authentication; however, many API do require some sort of user authentication with a username and password that you need to send along with your request. The requests documentation gives the [basics of how to use authentication](http://docs.python-requests.org/en/master/user/authentication/) when sending a request.\n",
    "\n",
    "The Twitter API, for example, requires you to set up credentials. \n",
    "But before you get bogged down by the Twitter API documentation and authentication protocols, you might want to do an internet search for Python twitter libraries. Oftentimes, for the APIs of the big internet companies, someone has [built a library](https://developer.twitter.com/en/docs/developer-utilities/twitter-libraries.html) that makes it much easier to use the API."
   ]
  },
  {
   "cell_type": "code",
   "execution_count": null,
   "metadata": {},
   "outputs": [],
   "source": []
  }
 ],
 "metadata": {
  "kernelspec": {
   "display_name": "Python 3",
   "language": "python",
   "name": "python3"
  },
  "language_info": {
   "codemirror_mode": {
    "name": "ipython",
    "version": 3
   },
   "file_extension": ".py",
   "mimetype": "text/x-python",
   "name": "python",
   "nbconvert_exporter": "python",
   "pygments_lexer": "ipython3",
   "version": "3.6.3"
  }
 },
 "nbformat": 4,
 "nbformat_minor": 2
}
